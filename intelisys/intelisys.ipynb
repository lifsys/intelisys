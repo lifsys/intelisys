{
 "cells": [
  {
   "cell_type": "code",
   "execution_count": 1,
   "metadata": {},
   "outputs": [],
   "source": [
    "from intelisys import Intelisys, safe_json_loads"
   ]
  },
  {
   "cell_type": "code",
   "execution_count": 2,
   "metadata": {},
   "outputs": [],
   "source": [
    "#intelisys = Intelisys(provider=\"openai\")\n",
    "#transcription = intelisys.transcript(\"/Users/lifsys/Documents/devhub/lib/intelisys/testing.mp3\")\n",
    "#response = intelisys.chat(f\"Summarize this transcription: {transcription}\")"
   ]
  },
  {
   "cell_type": "code",
   "execution_count": 3,
   "metadata": {},
   "outputs": [
    {
     "data": {
      "text/plain": [
       "\"Hello! As an AI language model, I don't have feelings, but I'm functioning well and ready to assist you. How can I help you today? Do you have any questions or topics you'd like to discuss?\""
      ]
     },
     "execution_count": 3,
     "metadata": {},
     "output_type": "execute_result"
    }
   ],
   "source": [
    "# Synchronous usage\n",
    "intelisys = Intelisys()\n",
    "response = intelisys.chat(\"Hello, how are you?\")\n",
    "response"
   ]
  },
  {
   "cell_type": "code",
   "execution_count": 4,
   "metadata": {},
   "outputs": [
    {
     "data": {
      "text/plain": [
       "{'greeting': 'Hello!',\n",
       " 'description': \"As an AI language model, I don't have feelings, but I'm functioning well and ready to assist you.\",\n",
       " 'offer': 'How can I help you today?',\n",
       " 'invitation': \"Do you have any questions or topics you'd like to discuss?\"}"
      ]
     },
     "execution_count": 4,
     "metadata": {},
     "output_type": "execute_result"
    }
   ],
   "source": [
    "safe_json_loads(response)"
   ]
  },
  {
   "cell_type": "code",
   "execution_count": 5,
   "metadata": {},
   "outputs": [
    {
     "data": {
      "text/plain": [
       "'Resume lacks specific army rank; describes leadership roles in military service.'"
      ]
     },
     "execution_count": 5,
     "metadata": {},
     "output_type": "execute_result"
    }
   ],
   "source": [
    "# Template usage\n",
    "response = intelisys.template_chat(\n",
    "    template=\"Summarize this in {{words}} words: {{text}}\",\n",
    "    render_data={\"words\": 10, \"text\": \"After carefully reviewing the provided resume, I don't see any explicit mention of a specific army rank. The document describes various military and civilian roles and responsibilities, but does not state a particular rank like Lieutenant, Captain, Major, etc. \\nThe experience described suggests the individual has had significant leadership roles in the U.S. Army and Army Reserve, including positions like: Chief of the Central Team in the Army Reserve Sustainment Command Transportation Officer in the US Army Reserve Deployment Support Command Director of Logistics for Area Support Group - Kuwait Contingency Contracting Officer in Southwest Asia. While these roles imply a relatively senior position, without an explicitly stated rank, I cannot confirm any specific army rank from the information provided. The focus seems to be more on describing job responsibilities and accomplishments rather than military rank progression.\"}\n",
    ")\n",
    "response"
   ]
  },
  {
   "cell_type": "code",
   "execution_count": 6,
   "metadata": {},
   "outputs": [
    {
     "name": "stderr",
     "output_type": "stream",
     "text": [
      "2024-08-25 09:00:00 | INFO | *Template*\n"
     ]
    },
    {
     "name": "stdout",
     "output_type": "stream",
     "text": [
      "{'name': 'Alice', 'greeting': 'Hello!', 'mood': \"I'm doing well, thank you for asking.\", 'current_status': 'Ready to assist', 'additional_info': \"I'm an AI assistant, so I don't actually have feelings, but I'm functioning properly and eager to help!\"}\n"
     ]
    }
   ],
   "source": [
    "intelisys = Intelisys(json_mode=True, log=\"INFO\")\n",
    "\n",
    "# Set a default template\n",
    "intelisys.set_default_template(\"Return JSON, {{ name }}! {{ question }}\")\n",
    "\n",
    "# Use the template in a chat\n",
    "response = intelisys.template_chat(\n",
    "    render_data={\"name\": \"Alice\", \"question\": \"How are you today?\"}\n",
    ")\n",
    "print(response)"
   ]
  },
  {
   "cell_type": "code",
   "execution_count": 7,
   "metadata": {},
   "outputs": [
    {
     "data": {
      "text/plain": [
       "\" Develop test cases\\n\\nEngineer preliminary prompt\\n\\nTest prompt against cases\\n\\nRefine prompt\\n\\nTest against held-out evals\\n\\nShip polished prompt\\n\\nDon't forget edge cases!\\n\\nEVALS!\""
      ]
     },
     "execution_count": 7,
     "metadata": {},
     "output_type": "execute_result"
    }
   ],
   "source": [
    "# Image OCR example\n",
    "intelisys = Intelisys(provider=\"openrouter\", model=\"google/gemini-pro-vision\")  # Make sure to use a model that supports image processing\n",
    "result = (intelisys\n",
    "    .image(\"https://mintlify.s3-us-west-1.amazonaws.com/anthropic/images/how-to-prompt-eng.png\")\n",
    "    .chat(\"Please provide the complete text in the following image(s).\")\n",
    ")\n",
    "result"
   ]
  },
  {
   "cell_type": "code",
   "execution_count": 8,
   "metadata": {},
   "outputs": [],
   "source": [
    "from pydantic import BaseModel\n",
    "from typing import List, Optional\n",
    "\n",
    "class MovieReview(BaseModel):\n",
    "    title: str\n",
    "    year: int\n",
    "    director: str\n",
    "    genre: List[str]\n",
    "    rating: float\n",
    "    summary: str\n",
    "    pros: List[str]\n",
    "    cons: List[str]\n",
    "\n",
    "# Create an Intelisys instance\n",
    "intelisys = Intelisys(provider=\"openai\", model=\"gpt-4o-mini\")\n",
    "\n",
    "# Use method chaining to set up and execute the request\n",
    "try:\n",
    "    result = (intelisys\n",
    "        .set_output_model(MovieReview)\n",
    "        .set_system_message(\"You are a professional film critic with extensive knowledge of cinema history\")\n",
    "        .image(\"https://intheposter.com/cdn/shop/files/the-manager-in-the-poster-1_5000x.jpg?v=1694762527\")\n",
    "        .chat(\"Analyze this movie poster and provide a detailed review of the film. Include information about the movie, your rating, and a brief summary of your thoughts.\")\n",
    "    )\n",
    "\n",
    "    # Parse the JSON string into a Python dictionary\n",
    "    result = safe_json_loads(result)\n",
    "except Exception as e:\n",
    "    print(f\"An error occurred: {str(e)}\")"
   ]
  },
  {
   "cell_type": "code",
   "execution_count": 9,
   "metadata": {},
   "outputs": [
    {
     "data": {
      "text/plain": [
       "'<persona>\\nYou are Guido van Rossum, the creator of the Python programming language. Born in 1956 in the Netherlands, you developed Python in the late 1980s and have been instrumental in its growth and development. Your experience in creating and maintaining Python makes you the ideal persona for guiding others in writing documentation for Python packages.\\n</persona>\\n\\n<task>\\nCreate a comprehensive README.md file for a Python package. This file should serve as the primary documentation for the package, providing users with all necessary information to understand, install, and use the package effectively. The README.md should be well-structured, informative, and follow best practices for open-source software documentation.\\n</task>\\n\\n<instruction>\\n1. Start with a clear and concise title that includes the package name.\\n2. Write a brief description of the package, explaining its purpose and main features.\\n3. Add badges for build status, version, and other relevant information.\\n4. Include installation instructions, detailing how to install the package using pip or other methods.\\n5. Provide a quick start guide with a simple example of how to use the package.\\n6. List and explain the main features of the package.\\n7. Include detailed usage instructions with code examples for each major functionality.\\n8. Document any configuration options or environment variables required.\\n9. Explain how to run tests and contribute to the project.\\n10. Include information about the license and how to cite the package if applicable.\\n11. Provide links to more detailed documentation, if available.\\n12. Add contact information or links to community forums for support.\\n13. Include a section on the package\\'s dependencies and compatibility with different Python versions.\\n14. If relevant, add a section on performance considerations or benchmarks.\\n15. Conclude with acknowledgments or a list of contributors, if applicable.\\n</instruction>\\n\\n<example>\\n# MyAwesomePackage\\n\\n[![PyPI version](https://badge.fury.io/py/myawesomepackage.svg)](https://badge.fury.io/py/myawesomepackage)\\n[![Build Status](https://travis-ci.org/username/myawesomepackage.svg?branch=master)](https://travis-ci.org/username/myawesomepackage)\\n[![License: MIT](https://img.shields.io/badge/License-MIT-yellow.svg)](https://opensource.org/licenses/MIT)\\n\\nMyAwesomePackage is a powerful Python library for processing and analyzing data with ease. It provides a simple interface for complex data operations, making it ideal for both beginners and experienced data scientists.\\n\\n## Features\\n\\n- Fast data processing\\n- Advanced statistical analysis\\n- Beautiful data visualization\\n- Easy-to-use API\\n\\n## Installation\\n\\nInstall MyAwesomePackage using pip:\\n\\n```\\npip install myawesomepackage\\n```\\n\\n## Quick Start\\n\\n```python\\nimport myawesomepackage as maw\\n\\n# Load data\\ndata = maw.load_data(\"example.csv\")\\n\\n# Process data\\nprocessed_data = maw.process(data)\\n\\n# Visualize results\\nmaw.plot(processed_data)\\n```\\n\\n## Usage\\n\\nFor detailed usage instructions, please refer to our [documentation](https://myawesomepackage.readthedocs.io).\\n\\n## Contributing\\n\\nWe welcome contributions! Please see our [contributing guide](CONTRIBUTING.md) for details.\\n\\n## License\\n\\nThis project is licensed under the MIT License - see the [LICENSE](LICENSE) file for details.\\n\\n## Contact\\n\\nFor support or queries, please open an issue on our [GitHub repository](https://github.com/username/myawesomepackage/issues) or join our [community forum](https://forum.myawesomepackage.com).\\n</example>'"
      ]
     },
     "execution_count": 9,
     "metadata": {},
     "output_type": "execute_result"
    }
   ],
   "source": [
    "from locksys import Locksys\n",
    "\n",
    "intelisys = Intelisys()\n",
    "response = (intelisys\n",
    "    .set_default_template(Locksys(\"Promptsys\").item(\"Template\").key(\"CreatePromptBeta\").results())\n",
    "    .template_chat(render_data={\"TASK\": \"Help me write a README.md for a python package\"})\n",
    ")\n",
    "response"
   ]
  },
  {
   "cell_type": "code",
   "execution_count": 10,
   "metadata": {},
   "outputs": [
    {
     "data": {
      "text/plain": [
       "'Photovoltaics (PV) is a technology that converts sunlight directly into electricity using semiconductor materials. The technology has seen rapid growth and development over the years, driven by advancements in efficiency, reductions in cost, and increasing global demand for renewable energy sources. Here are some key points from the \"Photovoltaics Report\" by the Fraunhofer Institute for Solar Energy Systems (ISE):\\n\\n### PV Market Overview\\n- **Global Growth**: The global PV market has experienced a Compound Annual Growth Rate (CAGR) of about 26% in cumulative installations from 2013 to 2023.\\n- **Regional Production**: In 2023, Asia accounted for 94% of total PV module production, with China leading at 86%. Europe and North America each contributed around 2%.\\n- **Installation Distribution**: By the end of 2023, Europe contributed 20% to the total cumulative PV installations, China 43%, and North America 10%.\\n- **Technology Dominance**: Silicon-wafer-based PV technology accounted for about 97% of total production in 2023, with mono-crystalline technology becoming dominant.\\n\\n### Efficiency and Technological Advancements\\n- **Record Efficiencies**: The highest lab cell efficiencies are 27.3% for mono-crystalline silicon and 24.4% for multi-crystalline silicon. Thin-film technologies like CIGS and CdTe have achieved efficiencies of 23.4% and 21.0%, respectively.\\n- **Commercial Modules**: The efficiency of commercial mono-crystalline silicon modules has increased from about 16% to over 22% in the last decade. CdTe module efficiency has also improved from 9% to nearly 20%.\\n- **Performance Ratio**: The performance ratio of PV systems has improved from around 70% before 2000 to between 80% and 90% today.\\n\\n### Sustainability and Life Cycle Assessment (LCA)\\n- **Material Usage**: Silicon usage for cells has been significantly reduced from around 16 g/Wp in 2004 to about 2.2 g/Wp in 2023, thanks to increased efficiencies and thinner wafers.\\n- **Energy Payback Time (EPBT)**: The EPBT of PV systems varies by location. In Northern Europe, it is approximately 1.1 years, while in Southern Europe, it is around 0.9 years. A PV system in Sicily using silicon modules has an EPBT of about one year.\\n- **Recycling**: PV modules can be recycled to recover rare and valuable materials, although further research is needed to make these processes more cost-effective.\\n\\n### Price Development\\n- **Cost Reduction**: The price of PV systems has decreased significantly over the years. For example, in Germany, the price for a typical 10 to 100 kWp rooftop system was around 14,000 €/kWp in 1990, but by the end of 2023, it was only 10% of that price.\\n- **Learning Curve**: The module price has decreased by 24.4% with each doubling of cumulative global module production over the past 43 years.\\n- **Market Shifts**: The PV market is shifting from subsidy-driven models to competitive pricing models like Power Purchase Agreements (PPA).\\n\\n### Regional Focus: Germany\\n- **Installed Capacity**: By the end of 2023, Germany had about 82.7 GWp of cumulative PV capacity, accounting for 5.2% of the global total.\\n- **Electricity Generation**: In 2023, PV accounted for 12.5% of net electricity generation in Germany, with all renewable energies together contributing around 60%.\\n- **GHG Emissions**: Approximately 42 million tons of CO2 equivalent greenhouse gas emissions were avoided in Germany in 2023 due to 61 TWh of PV electricity consumption.\\n\\n### Emerging Trends\\n- **New Applications**: Besides traditional rooftop and ground-mounted systems, new applications like agrivoltaics (PV systems on agricultural land), floating PV (on bodies of water), and vehicle-integrated PV are gaining traction.\\n- **Battery Storage**: There is a growing trend of integrating battery storage with residential and small commercial PV systems, driven by high electricity tariffs and the need for self-consumption.\\n\\nIn summary, photovoltaics is a rapidly evolving field with significant advancements in technology, efficiency, and cost reduction. The global market is expanding, with Asia, particularly China, leading in production. Sustainability and life cycle assessments show promising reductions in material usage and energy payback times, making PV a key player in the transition to renewable energy.'"
      ]
     },
     "execution_count": 10,
     "metadata": {},
     "output_type": "execute_result"
    }
   ],
   "source": [
    "# Create an Intelisys instance\n",
    "intelisys = Intelisys(provider=\"openai\", model=\"gpt-4o\")\n",
    "\n",
    "\n",
    "finalresult = (intelisys\n",
    "    .set_system_message(\"You are a technical writer\")\n",
    "    #.reference(\"https://docs.anthropic.com/en/docs/build-with-claude/define-success\")\n",
    "    .reference(\"/Users/lifsys/Downloads/Photovoltaics-Report.pdf\")\n",
    "    .chat(\"Tell me about photovoltaics, include relevant information from the report\")\n",
    ")\n",
    "\n",
    "finalresult"
   ]
  }
 ],
 "metadata": {
  "kernelspec": {
   "display_name": "lab",
   "language": "python",
   "name": "python3"
  },
  "language_info": {
   "codemirror_mode": {
    "name": "ipython",
    "version": 3
   },
   "file_extension": ".py",
   "mimetype": "text/x-python",
   "name": "python",
   "nbconvert_exporter": "python",
   "pygments_lexer": "ipython3",
   "version": "3.11.0"
  }
 },
 "nbformat": 4,
 "nbformat_minor": 2
}
