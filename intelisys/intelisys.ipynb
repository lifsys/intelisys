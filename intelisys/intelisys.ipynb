{
 "cells": [
  {
   "cell_type": "code",
   "execution_count": 1,
   "metadata": {},
   "outputs": [],
   "source": [
    "from intelisys import Intelisys, safe_json_loads"
   ]
  },
  {
   "cell_type": "code",
   "execution_count": 2,
   "metadata": {},
   "outputs": [],
   "source": [
    "#intelisys = Intelisys(provider=\"openai\")\n",
    "#transcription = intelisys.transcript(\"/Users/lifsys/Documents/devhub/lib/intelisys/testing.mp3\")\n",
    "#response = intelisys.chat(f\"Summarize this transcription: {transcription}\")"
   ]
  },
  {
   "cell_type": "code",
   "execution_count": null,
   "metadata": {},
   "outputs": [],
   "source": []
  },
  {
   "cell_type": "code",
   "execution_count": 3,
   "metadata": {},
   "outputs": [
    {
     "data": {
      "text/plain": [
       "\"Hello! I'm doing well, thank you for asking. As an AI assistant, I don't have feelings, but I'm functioning properly and ready to help you with any questions or tasks you might have. How can I assist you today?\""
      ]
     },
     "execution_count": 3,
     "metadata": {},
     "output_type": "execute_result"
    }
   ],
   "source": [
    "# Synchronous usage\n",
    "intelisys = Intelisys()\n",
    "response = intelisys.chat(\"Hello, how are you?\")\n",
    "response"
   ]
  },
  {
   "cell_type": "code",
   "execution_count": 4,
   "metadata": {},
   "outputs": [
    {
     "data": {
      "text/plain": [
       "{'greeting': 'Hello!',\n",
       " 'status': \"I'm doing well, thank you for asking.\",\n",
       " 'self_description': \"As an AI assistant, I don't have feelings, but I'm functioning properly and ready to help you with any questions or tasks you might have.\",\n",
       " 'offer_assistance': 'How can I assist you today?'}"
      ]
     },
     "execution_count": 4,
     "metadata": {},
     "output_type": "execute_result"
    }
   ],
   "source": [
    "safe_json_loads(response)"
   ]
  },
  {
   "cell_type": "code",
   "execution_count": 5,
   "metadata": {},
   "outputs": [
    {
     "data": {
      "text/plain": [
       "'Resume lacks specific army rank; describes leadership roles in military service.'"
      ]
     },
     "execution_count": 5,
     "metadata": {},
     "output_type": "execute_result"
    }
   ],
   "source": [
    "# Template usage\n",
    "response = intelisys.template_chat(\n",
    "    template=\"Summarize this in {{words}} words: {{text}}\",\n",
    "    render_data={\"words\": 10, \"text\": \"After carefully reviewing the provided resume, I don't see any explicit mention of a specific army rank. The document describes various military and civilian roles and responsibilities, but does not state a particular rank like Lieutenant, Captain, Major, etc. \\nThe experience described suggests the individual has had significant leadership roles in the U.S. Army and Army Reserve, including positions like: Chief of the Central Team in the Army Reserve Sustainment Command Transportation Officer in the US Army Reserve Deployment Support Command Director of Logistics for Area Support Group - Kuwait Contingency Contracting Officer in Southwest Asia. While these roles imply a relatively senior position, without an explicitly stated rank, I cannot confirm any specific army rank from the information provided. The focus seems to be more on describing job responsibilities and accomplishments rather than military rank progression.\"}\n",
    ")\n",
    "response"
   ]
  },
  {
   "cell_type": "code",
   "execution_count": 6,
   "metadata": {},
   "outputs": [
    {
     "name": "stderr",
     "output_type": "stream",
     "text": [
      "2024-08-24 22:24:41 | INFO | *Template*\n"
     ]
    },
    {
     "name": "stdout",
     "output_type": "stream",
     "text": [
      "{'name': 'Alice', 'greeting': 'Hello!', 'mood': \"I'm doing well, thank you for asking.\", 'current_status': 'Ready to assist', 'timestamp': '2023-05-09T12:34:56Z'}\n"
     ]
    }
   ],
   "source": [
    "intelisys = Intelisys(json_mode=True, log=\"INFO\")\n",
    "\n",
    "# Set a default template\n",
    "intelisys.set_default_template(\"Return JSON, {{ name }}! {{ question }}\")\n",
    "\n",
    "# Use the template in a chat\n",
    "response = intelisys.template_chat(\n",
    "    render_data={\"name\": \"Alice\", \"question\": \"How are you today?\"}\n",
    ")\n",
    "print(response)"
   ]
  },
  {
   "cell_type": "code",
   "execution_count": 7,
   "metadata": {},
   "outputs": [
    {
     "data": {
      "text/plain": [
       "\" Develop test cases\\n\\nEngineer preliminary prompt\\n\\nTest prompt against cases\\n\\nRefine prompt\\n\\nTest against held-out evals\\n\\nShip polished prompt\\n\\nDon't forget edge cases!\\n\\nEVALS!\""
      ]
     },
     "execution_count": 7,
     "metadata": {},
     "output_type": "execute_result"
    }
   ],
   "source": [
    "# Image OCR example\n",
    "intelisys = Intelisys(provider=\"openrouter\", model=\"google/gemini-pro-vision\")  # Make sure to use a model that supports image processing\n",
    "result = (intelisys\n",
    "    .image(\"https://mintlify.s3-us-west-1.amazonaws.com/anthropic/images/how-to-prompt-eng.png\")\n",
    "    .chat(\"Please provide the complete text in the following image(s).\")\n",
    ")\n",
    "result"
   ]
  },
  {
   "cell_type": "code",
   "execution_count": 8,
   "metadata": {},
   "outputs": [],
   "source": [
    "from pydantic import BaseModel\n",
    "from typing import List, Optional\n",
    "\n",
    "class MovieReview(BaseModel):\n",
    "    title: str\n",
    "    year: int\n",
    "    director: str\n",
    "    genre: List[str]\n",
    "    rating: float\n",
    "    summary: str\n",
    "    pros: List[str]\n",
    "    cons: List[str]\n",
    "\n",
    "# Create an Intelisys instance\n",
    "intelisys = Intelisys(provider=\"openai\", model=\"gpt-4o-mini\")\n",
    "\n",
    "# Use method chaining to set up and execute the request\n",
    "try:\n",
    "    result = (intelisys\n",
    "        .set_output_model(MovieReview)\n",
    "        .set_system_message(\"You are a professional film critic with extensive knowledge of cinema history\")\n",
    "        .image(\"https://intheposter.com/cdn/shop/files/the-manager-in-the-poster-1_5000x.jpg?v=1694762527\")\n",
    "        .chat(\"Analyze this movie poster and provide a detailed review of the film. Include information about the movie, your rating, and a brief summary of your thoughts.\")\n",
    "    )\n",
    "\n",
    "    # Parse the JSON string into a Python dictionary\n",
    "    result = safe_json_loads(result)\n",
    "except Exception as e:\n",
    "    print(f\"An error occurred: {str(e)}\")"
   ]
  },
  {
   "cell_type": "code",
   "execution_count": 9,
   "metadata": {},
   "outputs": [
    {
     "data": {
      "text/plain": [
       "{'title': 'The Manager',\n",
       " 'year': 2023,\n",
       " 'director': 'Chris Nolan',\n",
       " 'genre': ['Drama', 'Thriller'],\n",
       " 'rating': 8.5,\n",
       " 'summary': \"'The Manager' is a gripping exploration of ambition and moral ambiguity in the corporate world. Jamie Nolan delivers a standout performance as a young executive navigating the treacherous waters of corporate politics, where every decision could lead to success or ruin. The film's stylish direction and sharp dialogue keep the audience engaged, while its underlying themes of power and ethics resonate deeply. The cinematography is striking, with a bold color palette that enhances the film's tense atmosphere. Overall, 'The Manager' is a thought-provoking and visually stunning film that challenges viewers to consider the cost of ambition.\",\n",
       " 'pros': ['Strong performance by Jamie Nolan',\n",
       "  'Stylish direction and cinematography',\n",
       "  'Engaging and thought-provoking narrative',\n",
       "  'Well-crafted dialogue'],\n",
       " 'cons': ['Pacing may feel slow in parts',\n",
       "  'Some characters lack depth',\n",
       "  'Predictable plot twists']}"
      ]
     },
     "execution_count": 9,
     "metadata": {},
     "output_type": "execute_result"
    }
   ],
   "source": [
    "result"
   ]
  }
 ],
 "metadata": {
  "kernelspec": {
   "display_name": "lab",
   "language": "python",
   "name": "python3"
  },
  "language_info": {
   "codemirror_mode": {
    "name": "ipython",
    "version": 3
   },
   "file_extension": ".py",
   "mimetype": "text/x-python",
   "name": "python",
   "nbconvert_exporter": "python",
   "pygments_lexer": "ipython3",
   "version": "3.11.0"
  }
 },
 "nbformat": 4,
 "nbformat_minor": 2
}
