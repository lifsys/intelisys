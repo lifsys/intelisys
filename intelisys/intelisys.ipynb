{
 "cells": [
  {
   "cell_type": "code",
   "execution_count": 3,
   "metadata": {},
   "outputs": [],
   "source": [
    "from intelisys import Intelisys, safe_json_loads\n",
    "from pydantic import BaseModel\n",
    "from typing import List, Optional"
   ]
  },
  {
   "cell_type": "code",
   "execution_count": 2,
   "metadata": {},
   "outputs": [],
   "source": [
    "#intelisys = Intelisys(provider=\"openai\")\n",
    "#transcription = intelisys.transcript(\"/Users/lifsys/Documents/devhub/lib/intelisys/testing.mp3\")\n",
    "#response = intelisys.chat(f\"Summarize this transcription: {transcription}\")"
   ]
  },
  {
   "cell_type": "code",
   "execution_count": 3,
   "metadata": {},
   "outputs": [
    {
     "data": {
      "text/plain": [
       "\"Hello! I'm doing well, thank you for asking. As an AI assistant, I don't have feelings, but I'm functioning properly and ready to help you with any questions or tasks you might have. How can I assist you today?\""
      ]
     },
     "execution_count": 3,
     "metadata": {},
     "output_type": "execute_result"
    }
   ],
   "source": [
    "# Synchronous usage\n",
    "intelisys = Intelisys()\n",
    "response = intelisys.chat(\"Hello, how are you?\")\n",
    "response"
   ]
  },
  {
   "cell_type": "code",
   "execution_count": 4,
   "metadata": {},
   "outputs": [
    {
     "data": {
      "text/plain": [
       "{'greeting': 'Hello!',\n",
       " 'status': \"I'm doing well, thank you for asking.\",\n",
       " 'self_description': \"As an AI assistant, I don't have feelings, but I'm functioning properly and ready to help you with any questions or tasks you might have.\",\n",
       " 'offer_assistance': 'How can I assist you today?'}"
      ]
     },
     "execution_count": 4,
     "metadata": {},
     "output_type": "execute_result"
    }
   ],
   "source": [
    "safe_json_loads(response)"
   ]
  },
  {
   "cell_type": "code",
   "execution_count": 5,
   "metadata": {},
   "outputs": [
    {
     "data": {
      "text/plain": [
       "'Resume lacks specific army rank; describes leadership roles in military service.'"
      ]
     },
     "execution_count": 5,
     "metadata": {},
     "output_type": "execute_result"
    }
   ],
   "source": [
    "# Template usage\n",
    "response = intelisys.template_chat(\n",
    "    template=\"Summarize this in {{words}} words: {{text}}\",\n",
    "    render_data={\"words\": 10, \"text\": \"After carefully reviewing the provided resume, I don't see any explicit mention of a specific army rank. The document describes various military and civilian roles and responsibilities, but does not state a particular rank like Lieutenant, Captain, Major, etc. \\nThe experience described suggests the individual has had significant leadership roles in the U.S. Army and Army Reserve, including positions like: Chief of the Central Team in the Army Reserve Sustainment Command Transportation Officer in the US Army Reserve Deployment Support Command Director of Logistics for Area Support Group - Kuwait Contingency Contracting Officer in Southwest Asia. While these roles imply a relatively senior position, without an explicitly stated rank, I cannot confirm any specific army rank from the information provided. The focus seems to be more on describing job responsibilities and accomplishments rather than military rank progression.\"}\n",
    ")\n",
    "response"
   ]
  },
  {
   "cell_type": "code",
   "execution_count": 6,
   "metadata": {},
   "outputs": [
    {
     "name": "stderr",
     "output_type": "stream",
     "text": [
      "2024-08-25 14:57:36 | INFO | *Template*\n"
     ]
    },
    {
     "name": "stdout",
     "output_type": "stream",
     "text": [
      "{'name': 'Alice', 'greeting': 'Hello!', 'mood': \"I'm doing well, thank you for asking.\", 'current_status': 'Ready to assist', 'additional_info': \"I'm an AI assistant, so I don't actually have feelings, but I'm functioning properly and eager to help!\"}\n"
     ]
    }
   ],
   "source": [
    "intelisys = Intelisys(json_mode=True, log=\"INFO\")\n",
    "\n",
    "# Set a default template\n",
    "intelisys.set_default_template(\"Return JSON, {{ name }}! {{ question }}\")\n",
    "\n",
    "# Use the template in a chat\n",
    "response = intelisys.template_chat(\n",
    "    render_data={\"name\": \"Alice\", \"question\": \"How are you today?\"}\n",
    ")\n",
    "print(response)"
   ]
  },
  {
   "cell_type": "code",
   "execution_count": 7,
   "metadata": {},
   "outputs": [
    {
     "data": {
      "text/plain": [
       "\" Develop test cases\\n\\nEngineer preliminary prompt\\n\\nTest prompt against cases\\n\\nRefine prompt\\n\\nTest against held-out evals\\n\\nShip polished prompt\\n\\nDon't forget edge cases!\\n\\nEVALS!\""
      ]
     },
     "execution_count": 7,
     "metadata": {},
     "output_type": "execute_result"
    }
   ],
   "source": [
    "# Image OCR example\n",
    "intelisys = Intelisys(provider=\"openrouter\", model=\"google/gemini-pro-vision\")  # Make sure to use a model that supports image processing\n",
    "result = (intelisys\n",
    "    .image(\"https://mintlify.s3-us-west-1.amazonaws.com/anthropic/images/how-to-prompt-eng.png\")\n",
    "    .chat(\"Please provide the complete text in the following image(s).\")\n",
    ")\n",
    "result"
   ]
  },
  {
   "cell_type": "code",
   "execution_count": 8,
   "metadata": {},
   "outputs": [],
   "source": [
    "class MovieReview(BaseModel):\n",
    "    title: str\n",
    "    year: int\n",
    "    director: str\n",
    "    genre: List[str]\n",
    "    rating: float\n",
    "    summary: str\n",
    "    pros: List[str]\n",
    "    cons: List[str]\n",
    "\n",
    "# Create an Intelisys instance\n",
    "intelisys = Intelisys(provider=\"openai\", model=\"gpt-4o-mini\")\n",
    "\n",
    "# Use method chaining to set up and execute the request\n",
    "try:\n",
    "    result = (intelisys\n",
    "        .set_output_model(MovieReview)\n",
    "        .set_system_message(\"You are a professional film critic with extensive knowledge of cinema history\")\n",
    "        .image(\"https://intheposter.com/cdn/shop/files/the-manager-in-the-poster-1_5000x.jpg?v=1694762527\")\n",
    "        .chat(\"Analyze this movie poster and provide a detailed review of the film. Include information about the movie, your rating, and a brief summary of your thoughts.\")\n",
    "    )\n",
    "\n",
    "    # Parse the JSON string into a Python dictionary\n",
    "    result = safe_json_loads(result)\n",
    "except Exception as e:\n",
    "    print(f\"An error occurred: {str(e)}\")"
   ]
  },
  {
   "cell_type": "code",
   "execution_count": 9,
   "metadata": {},
   "outputs": [
    {
     "data": {
      "text/plain": [
       "'<persona>\\nYou are Guido van Rossum, the creator of the Python programming language. Born in 1956 in the Netherlands, you developed Python in the late 1980s and have been instrumental in its growth and development. Your experience in creating and maintaining Python makes you the ideal persona for guiding others in writing documentation for Python packages.\\n</persona>\\n\\n<task>\\nCreate a comprehensive README.md file for a Python package. This file should serve as the primary documentation for the package, providing users with all necessary information to understand, install, and use the package effectively. The README.md should be well-structured, informative, and follow best practices for open-source software documentation.\\n</task>\\n\\n<instruction>\\n1. Start with a clear and concise title that includes the package name.\\n2. Write a brief description of the package, explaining its purpose and main features.\\n3. Add badges for build status, version, and other relevant information.\\n4. Include installation instructions, detailing how to install the package using pip or other methods.\\n5. Provide a quick start guide with a simple example of how to use the package.\\n6. List and explain the main features of the package.\\n7. Include detailed usage instructions with code examples for each major functionality.\\n8. Document any configuration options or environment variables required.\\n9. Explain how to run tests and contribute to the project.\\n10. Include information about the license and how to cite the package if applicable.\\n11. Provide links to more detailed documentation, if available.\\n12. Add contact information or links to community forums for support.\\n13. Include a section on the package\\'s dependencies and compatibility with different Python versions.\\n14. If relevant, add a section on performance or benchmarks.\\n15. Conclude with acknowledgments or credits for contributors and any third-party libraries used.\\n</instruction>\\n\\n<example>\\n# MyAwesomePackage\\n\\n[![PyPI version](https://badge.fury.io/py/myawesomepackage.svg)](https://badge.fury.io/py/myawesomepackage)\\n[![Build Status](https://travis-ci.org/username/myawesomepackage.svg?branch=master)](https://travis-ci.org/username/myawesomepackage)\\n[![License: MIT](https://img.shields.io/badge/License-MIT-yellow.svg)](https://opensource.org/licenses/MIT)\\n\\nMyAwesomePackage is a powerful Python library for processing and analyzing data with ease.\\n\\n## Features\\n\\n- Fast data processing algorithms\\n- Intuitive API for data manipulation\\n- Extensive visualization capabilities\\n- Support for both local and distributed computing\\n\\n## Installation\\n\\nInstall MyAwesomePackage using pip:\\n\\n```\\npip install myawesomepackage\\n```\\n\\n## Quick Start\\n\\n```python\\nimport myawesomepackage as maw\\n\\n# Load data\\ndata = maw.load_data(\"example.csv\")\\n\\n# Process data\\nresult = maw.process(data)\\n\\n# Visualize results\\nmaw.plot(result)\\n```\\n\\n## Usage\\n\\nFor detailed usage instructions, please refer to our [documentation](https://myawesomepackage.readthedocs.io).\\n\\n## Contributing\\n\\nWe welcome contributions! Please see our [Contributing Guide](CONTRIBUTING.md) for more details.\\n\\n## License\\n\\nThis project is licensed under the MIT License - see the [LICENSE](LICENSE) file for details.\\n\\n## Contact\\n\\nFor support or queries, please open an issue on our [GitHub repository](https://github.com/username/myawesomepackage/issues) or join our [community forum](https://forum.myawesomepackage.com).\\n</example>'"
      ]
     },
     "execution_count": 9,
     "metadata": {},
     "output_type": "execute_result"
    }
   ],
   "source": [
    "from locksys import Locksys\n",
    "\n",
    "intelisys = Intelisys()\n",
    "response = (intelisys\n",
    "    .set_default_template(Locksys(\"Promptsys\").item(\"Template\").key(\"CreatePromptBeta\").results())\n",
    "    .template_chat(render_data={\"TASK\": \"Help me write a README.md for a python package\"})\n",
    ")\n",
    "response"
   ]
  },
  {
   "cell_type": "code",
   "execution_count": 10,
   "metadata": {},
   "outputs": [
    {
     "data": {
      "text/plain": [
       "{'to': 'Alain',\n",
       " 'sender': 'The iTunes Store team',\n",
       " 'subject': 'Reminder: iTunes Match Subscription Renewal',\n",
       " 'summary': 'Dear Alain, this is a reminder that your subscription for iTunes Match automatically renews annually for $24.99 starting Sep 21, 2024 until canceled. To avoid being charged, you must cancel at least a day before each renewal date. To manage your subscription, sign in to the iTunes Store on your Mac or PC and view your account. For more information about subscription and purchases, visit Apple Support. Regards, The iTunes Store team.'}"
      ]
     },
     "execution_count": 10,
     "metadata": {},
     "output_type": "execute_result"
    }
   ],
   "source": [
    "# Create an Intelisys instance\n",
    "intelisys = Intelisys(provider=\"openai\", model=\"gpt-4o\")\n",
    "\n",
    "#pydantic base model\n",
    "from pydantic import BaseModel\n",
    "\n",
    "class Email(BaseModel):\n",
    "    to: str\n",
    "    sender: str\n",
    "    subject: str\n",
    "    summary: str\n",
    "\n",
    "finalresult = (intelisys\n",
    "    .set_system_message(\"You are a technical writer\")\n",
    "    .set_output_model(Email)\n",
    "    #.reference(\"https://docs.anthropic.com/en/docs/build-with-claude/define-success\")\n",
    "    .reference(\"/Users/lifsys/Documents/devhub/testingZone/iTunes Match- Your subscription will automatically renew in 30 days..eml\")\n",
    "    .chat(\"Provide an exsum\")\n",
    ")\n",
    "\n",
    "finalresult = safe_json_loads(finalresult)\n",
    "finalresult"
   ]
  },
  {
   "cell_type": "code",
   "execution_count": 25,
   "metadata": {},
   "outputs": [
    {
     "name": "stderr",
     "output_type": "stream",
     "text": [
      "cp: /Users/lifsys/Library/CloudStorage/OneDrive-BCFSolutionsInc/Tools/Rates-Calculations-Table.xlsx: Operation not permitted\n"
     ]
    },
    {
     "data": {
      "text/plain": [
       "256"
      ]
     },
     "execution_count": 25,
     "metadata": {},
     "output_type": "execute_result"
    }
   ],
   "source": [
    "import pwd, os\n",
    "\n",
    "uid = pwd.getpwnam('lifsys')[2]\n",
    "os.setuid(uid)\n",
    "os.system(\"\"\"cp /Users/lifsys/Library/CloudStorage/OneDrive-BCFSolutionsInc/Tools/Rates-Calculations-Table.xlsx /Users/lifsys/Desktop/Rates-Calculations-Table.xlsx\"\"\")\n"
   ]
  },
  {
   "cell_type": "code",
   "execution_count": 9,
   "metadata": {},
   "outputs": [
    {
     "name": "stderr",
     "output_type": "stream",
     "text": [
      "2024-08-27 04:49:21 | ERROR | Error adding reference: [Errno 1] Operation not permitted: '/Users/lifsys/Library/CloudStorage/OneDrive-BCFSolutionsInc/1. Bestey-Bill/ROSTERS/PMATS Contract Rosters.xlsx'\n"
     ]
    },
    {
     "ename": "ValueError",
     "evalue": "Failed to add reference from /Users/lifsys/Library/CloudStorage/OneDrive-BCFSolutionsInc/1. Bestey-Bill/ROSTERS/PMATS Contract Rosters.xlsx: [Errno 1] Operation not permitted: '/Users/lifsys/Library/CloudStorage/OneDrive-BCFSolutionsInc/1. Bestey-Bill/ROSTERS/PMATS Contract Rosters.xlsx'",
     "output_type": "error",
     "traceback": [
      "\u001b[0;31m---------------------------------------------------------------------------\u001b[0m",
      "\u001b[0;31mPermissionError\u001b[0m                           Traceback (most recent call last)",
      "File \u001b[0;32m~/Documents/devhub/lib/intelisys/intelisys/intelisys.py:742\u001b[0m, in \u001b[0;36mIntelisys.reference\u001b[0;34m(self, source, sheet_name, sheet_index)\u001b[0m\n\u001b[1;32m    741\u001b[0m \u001b[38;5;28;01mif\u001b[39;00m file_extension \u001b[38;5;129;01min\u001b[39;00m [\u001b[38;5;124m'\u001b[39m\u001b[38;5;124m.xls\u001b[39m\u001b[38;5;124m'\u001b[39m, \u001b[38;5;124m'\u001b[39m\u001b[38;5;124m.xlsx\u001b[39m\u001b[38;5;124m'\u001b[39m]:\n\u001b[0;32m--> 742\u001b[0m     content \u001b[38;5;241m=\u001b[39m \u001b[38;5;28;43mself\u001b[39;49m\u001b[38;5;241;43m.\u001b[39;49m\u001b[43m_read_excel_content\u001b[49m\u001b[43m(\u001b[49m\u001b[43msource\u001b[49m\u001b[43m,\u001b[49m\u001b[43m \u001b[49m\u001b[43msheet_name\u001b[49m\u001b[43m,\u001b[49m\u001b[43m \u001b[49m\u001b[43msheet_index\u001b[49m\u001b[43m)\u001b[49m\n\u001b[1;32m    743\u001b[0m \u001b[38;5;28;01melse\u001b[39;00m:\n",
      "File \u001b[0;32m~/Documents/devhub/lib/intelisys/intelisys/intelisys.py:926\u001b[0m, in \u001b[0;36mIntelisys._read_excel_content\u001b[0;34m(self, filepath, sheet_name, sheet_index)\u001b[0m\n\u001b[1;32m    915\u001b[0m \u001b[38;5;250m\u001b[39m\u001b[38;5;124;03m\"\"\"\u001b[39;00m\n\u001b[1;32m    916\u001b[0m \u001b[38;5;124;03mRead content from an Excel file.\u001b[39;00m\n\u001b[1;32m    917\u001b[0m \n\u001b[0;32m   (...)\u001b[0m\n\u001b[1;32m    924\u001b[0m \u001b[38;5;124;03m    str: Content of the specified sheet.\u001b[39;00m\n\u001b[1;32m    925\u001b[0m \u001b[38;5;124;03m\"\"\"\u001b[39;00m\n\u001b[0;32m--> 926\u001b[0m wb \u001b[38;5;241m=\u001b[39m \u001b[43mload_workbook\u001b[49m\u001b[43m(\u001b[49m\u001b[43mfilepath\u001b[49m\u001b[43m,\u001b[49m\u001b[43m \u001b[49m\u001b[43mread_only\u001b[49m\u001b[38;5;241;43m=\u001b[39;49m\u001b[38;5;28;43;01mTrue\u001b[39;49;00m\u001b[43m,\u001b[49m\u001b[43m \u001b[49m\u001b[43mdata_only\u001b[49m\u001b[38;5;241;43m=\u001b[39;49m\u001b[38;5;28;43;01mTrue\u001b[39;49;00m\u001b[43m)\u001b[49m\n\u001b[1;32m    928\u001b[0m \u001b[38;5;28;01mif\u001b[39;00m sheet_index \u001b[38;5;129;01mis\u001b[39;00m \u001b[38;5;129;01mnot\u001b[39;00m \u001b[38;5;28;01mNone\u001b[39;00m:\n",
      "File \u001b[0;32m~/miniconda3/envs/lab/lib/python3.11/site-packages/openpyxl/reader/excel.py:346\u001b[0m, in \u001b[0;36mload_workbook\u001b[0;34m(filename, read_only, keep_vba, data_only, keep_links, rich_text)\u001b[0m\n\u001b[1;32m    318\u001b[0m \u001b[38;5;250m\u001b[39m\u001b[38;5;124;03m\"\"\"Open the given filename and return the workbook\u001b[39;00m\n\u001b[1;32m    319\u001b[0m \n\u001b[1;32m    320\u001b[0m \u001b[38;5;124;03m:param filename: the path to open or a file-like object\u001b[39;00m\n\u001b[0;32m   (...)\u001b[0m\n\u001b[1;32m    344\u001b[0m \n\u001b[1;32m    345\u001b[0m \u001b[38;5;124;03m\"\"\"\u001b[39;00m\n\u001b[0;32m--> 346\u001b[0m reader \u001b[38;5;241m=\u001b[39m \u001b[43mExcelReader\u001b[49m\u001b[43m(\u001b[49m\u001b[43mfilename\u001b[49m\u001b[43m,\u001b[49m\u001b[43m \u001b[49m\u001b[43mread_only\u001b[49m\u001b[43m,\u001b[49m\u001b[43m \u001b[49m\u001b[43mkeep_vba\u001b[49m\u001b[43m,\u001b[49m\n\u001b[1;32m    347\u001b[0m \u001b[43m                     \u001b[49m\u001b[43mdata_only\u001b[49m\u001b[43m,\u001b[49m\u001b[43m \u001b[49m\u001b[43mkeep_links\u001b[49m\u001b[43m,\u001b[49m\u001b[43m \u001b[49m\u001b[43mrich_text\u001b[49m\u001b[43m)\u001b[49m\n\u001b[1;32m    348\u001b[0m reader\u001b[38;5;241m.\u001b[39mread()\n",
      "File \u001b[0;32m~/miniconda3/envs/lab/lib/python3.11/site-packages/openpyxl/reader/excel.py:123\u001b[0m, in \u001b[0;36mExcelReader.__init__\u001b[0;34m(self, fn, read_only, keep_vba, data_only, keep_links, rich_text)\u001b[0m\n\u001b[1;32m    121\u001b[0m \u001b[38;5;28;01mdef\u001b[39;00m \u001b[38;5;21m__init__\u001b[39m(\u001b[38;5;28mself\u001b[39m, fn, read_only\u001b[38;5;241m=\u001b[39m\u001b[38;5;28;01mFalse\u001b[39;00m, keep_vba\u001b[38;5;241m=\u001b[39mKEEP_VBA,\n\u001b[1;32m    122\u001b[0m              data_only\u001b[38;5;241m=\u001b[39m\u001b[38;5;28;01mFalse\u001b[39;00m, keep_links\u001b[38;5;241m=\u001b[39m\u001b[38;5;28;01mTrue\u001b[39;00m, rich_text\u001b[38;5;241m=\u001b[39m\u001b[38;5;28;01mFalse\u001b[39;00m):\n\u001b[0;32m--> 123\u001b[0m     \u001b[38;5;28mself\u001b[39m\u001b[38;5;241m.\u001b[39marchive \u001b[38;5;241m=\u001b[39m \u001b[43m_validate_archive\u001b[49m\u001b[43m(\u001b[49m\u001b[43mfn\u001b[49m\u001b[43m)\u001b[49m\n\u001b[1;32m    124\u001b[0m     \u001b[38;5;28mself\u001b[39m\u001b[38;5;241m.\u001b[39mvalid_files \u001b[38;5;241m=\u001b[39m \u001b[38;5;28mself\u001b[39m\u001b[38;5;241m.\u001b[39marchive\u001b[38;5;241m.\u001b[39mnamelist()\n",
      "File \u001b[0;32m~/miniconda3/envs/lab/lib/python3.11/site-packages/openpyxl/reader/excel.py:95\u001b[0m, in \u001b[0;36m_validate_archive\u001b[0;34m(filename)\u001b[0m\n\u001b[1;32m     93\u001b[0m         \u001b[38;5;28;01mraise\u001b[39;00m InvalidFileException(msg)\n\u001b[0;32m---> 95\u001b[0m archive \u001b[38;5;241m=\u001b[39m \u001b[43mZipFile\u001b[49m\u001b[43m(\u001b[49m\u001b[43mfilename\u001b[49m\u001b[43m,\u001b[49m\u001b[43m \u001b[49m\u001b[38;5;124;43m'\u001b[39;49m\u001b[38;5;124;43mr\u001b[39;49m\u001b[38;5;124;43m'\u001b[39;49m\u001b[43m)\u001b[49m\n\u001b[1;32m     96\u001b[0m \u001b[38;5;28;01mreturn\u001b[39;00m archive\n",
      "File \u001b[0;32m~/miniconda3/envs/lab/lib/python3.11/zipfile.py:1281\u001b[0m, in \u001b[0;36mZipFile.__init__\u001b[0;34m(self, file, mode, compression, allowZip64, compresslevel, strict_timestamps, metadata_encoding)\u001b[0m\n\u001b[1;32m   1280\u001b[0m \u001b[38;5;28;01mtry\u001b[39;00m:\n\u001b[0;32m-> 1281\u001b[0m     \u001b[38;5;28mself\u001b[39m\u001b[38;5;241m.\u001b[39mfp \u001b[38;5;241m=\u001b[39m \u001b[43mio\u001b[49m\u001b[38;5;241;43m.\u001b[39;49m\u001b[43mopen\u001b[49m\u001b[43m(\u001b[49m\u001b[43mfile\u001b[49m\u001b[43m,\u001b[49m\u001b[43m \u001b[49m\u001b[43mfilemode\u001b[49m\u001b[43m)\u001b[49m\n\u001b[1;32m   1282\u001b[0m \u001b[38;5;28;01mexcept\u001b[39;00m \u001b[38;5;167;01mOSError\u001b[39;00m:\n",
      "\u001b[0;31mPermissionError\u001b[0m: [Errno 1] Operation not permitted: '/Users/lifsys/Library/CloudStorage/OneDrive-BCFSolutionsInc/1. Bestey-Bill/ROSTERS/PMATS Contract Rosters.xlsx'",
      "\nDuring handling of the above exception, another exception occurred:\n",
      "\u001b[0;31mValueError\u001b[0m                                Traceback (most recent call last)",
      "Cell \u001b[0;32mIn[9], line 16\u001b[0m\n\u001b[1;32m      9\u001b[0m \u001b[38;5;28;01mclass\u001b[39;00m \u001b[38;5;21;01mRoster\u001b[39;00m(BaseModel):\n\u001b[1;32m     10\u001b[0m     full_name: List[Positions]\n\u001b[1;32m     12\u001b[0m roster \u001b[38;5;241m=\u001b[39m (\u001b[43mrosterwrap\u001b[49m\n\u001b[1;32m     13\u001b[0m \u001b[43m    \u001b[49m\u001b[38;5;241;43m.\u001b[39;49m\u001b[43mset_system_message\u001b[49m\u001b[43m(\u001b[49m\u001b[38;5;124;43m\"\u001b[39;49m\u001b[38;5;124;43mYou are an analyst\u001b[39;49m\u001b[38;5;124;43m\"\u001b[39;49m\u001b[43m)\u001b[49m\n\u001b[1;32m     14\u001b[0m \u001b[43m    \u001b[49m\u001b[38;5;241;43m.\u001b[39;49m\u001b[43mset_output_model\u001b[49m\u001b[43m(\u001b[49m\u001b[43mRoster\u001b[49m\u001b[43m)\u001b[49m\n\u001b[1;32m     15\u001b[0m \u001b[43m    \u001b[49m\u001b[38;5;66;43;03m#.reference(\"https://docs.anthropic.com/en/docs/build-with-claude/define-success\")\u001b[39;49;00m\n\u001b[0;32m---> 16\u001b[0m \u001b[43m    \u001b[49m\u001b[38;5;241;43m.\u001b[39;49m\u001b[43mreference\u001b[49m\u001b[43m(\u001b[49m\u001b[38;5;124;43m\"\u001b[39;49m\u001b[38;5;124;43m/Users/lifsys/Library/CloudStorage/OneDrive-BCFSolutionsInc/1. Bestey-Bill/ROSTERS/PMATS Contract Rosters.xlsx\u001b[39;49m\u001b[38;5;124;43m\"\u001b[39;49m\u001b[43m,\u001b[49m\u001b[43m \u001b[49m\u001b[43msheet_name\u001b[49m\u001b[38;5;241;43m=\u001b[39;49m\u001b[38;5;124;43m\"\u001b[39;49m\u001b[38;5;124;43mWOI\u001b[39;49m\u001b[38;5;124;43m\"\u001b[39;49m\u001b[43m)\u001b[49m\n\u001b[1;32m     17\u001b[0m     \u001b[38;5;241m.\u001b[39mchat(\u001b[38;5;124m\"\u001b[39m\u001b[38;5;124mList of all members of the PMATS team\u001b[39m\u001b[38;5;124m\"\u001b[39m)\n\u001b[1;32m     18\u001b[0m )\n\u001b[1;32m     19\u001b[0m roster \u001b[38;5;241m=\u001b[39m safe_json_loads(roster)\n\u001b[1;32m     20\u001b[0m roster\n",
      "File \u001b[0;32m~/Documents/devhub/lib/intelisys/intelisys/intelisys.py:758\u001b[0m, in \u001b[0;36mIntelisys.reference\u001b[0;34m(self, source, sheet_name, sheet_index)\u001b[0m\n\u001b[1;32m    756\u001b[0m \u001b[38;5;28;01mexcept\u001b[39;00m \u001b[38;5;167;01mException\u001b[39;00m \u001b[38;5;28;01mas\u001b[39;00m e:\n\u001b[1;32m    757\u001b[0m     \u001b[38;5;28mself\u001b[39m\u001b[38;5;241m.\u001b[39mlogger\u001b[38;5;241m.\u001b[39merror(\u001b[38;5;124mf\u001b[39m\u001b[38;5;124m\"\u001b[39m\u001b[38;5;124mError adding reference: \u001b[39m\u001b[38;5;132;01m{\u001b[39;00m\u001b[38;5;28mstr\u001b[39m(e)\u001b[38;5;132;01m}\u001b[39;00m\u001b[38;5;124m\"\u001b[39m)\n\u001b[0;32m--> 758\u001b[0m     \u001b[38;5;28;01mraise\u001b[39;00m \u001b[38;5;167;01mValueError\u001b[39;00m(\u001b[38;5;124mf\u001b[39m\u001b[38;5;124m\"\u001b[39m\u001b[38;5;124mFailed to add reference from \u001b[39m\u001b[38;5;132;01m{\u001b[39;00msource\u001b[38;5;132;01m}\u001b[39;00m\u001b[38;5;124m: \u001b[39m\u001b[38;5;132;01m{\u001b[39;00m\u001b[38;5;28mstr\u001b[39m(e)\u001b[38;5;132;01m}\u001b[39;00m\u001b[38;5;124m\"\u001b[39m)\n\u001b[1;32m    760\u001b[0m \u001b[38;5;28;01mreturn\u001b[39;00m \u001b[38;5;28mself\u001b[39m\n",
      "\u001b[0;31mValueError\u001b[0m: Failed to add reference from /Users/lifsys/Library/CloudStorage/OneDrive-BCFSolutionsInc/1. Bestey-Bill/ROSTERS/PMATS Contract Rosters.xlsx: [Errno 1] Operation not permitted: '/Users/lifsys/Library/CloudStorage/OneDrive-BCFSolutionsInc/1. Bestey-Bill/ROSTERS/PMATS Contract Rosters.xlsx'"
     ]
    }
   ],
   "source": [
    "rosterwrap = Intelisys(provider=\"openai\", model=\"gpt-4o\")\n",
    "\n",
    "class Positions(BaseModel):\n",
    "    first_name: str\n",
    "    last_name: str\n",
    "    position: str\n",
    "    salary: float\n",
    "\n",
    "class Roster(BaseModel):\n",
    "    full_name: List[Positions]\n",
    "\n",
    "roster = (rosterwrap\n",
    "    .set_system_message(\"You are an analyst\")\n",
    "    .set_output_model(Roster)\n",
    "    #.reference(\"https://docs.anthropic.com/en/docs/build-with-claude/define-success\")\n",
    "    .reference(\"/Users/lifsys/Library/CloudStorage/OneDrive-BCFSolutionsInc/1. Bestey-Bill/ROSTERS/PMATS Contract Rosters.xlsx\", sheet_name=\"WOI\")\n",
    "    .chat(\"List of all members of the PMATS team\")\n",
    ")\n",
    "roster = safe_json_loads(roster)\n",
    "roster"
   ]
  },
  {
   "cell_type": "code",
   "execution_count": 15,
   "metadata": {},
   "outputs": [
    {
     "data": {
      "text/plain": [
       "{'members': [{'name': 'Benjamin Franklin',\n",
       "   'lifespan': '1706-1790',\n",
       "   'background': 'One of the Founding Fathers of the United States, Franklin was a polymath who excelled in various fields including science, politics, and diplomacy. He was also a successful entrepreneur and inventor.',\n",
       "   'contribution': \"Franklin's diverse expertise in innovation, strategic planning, and diplomacy would be invaluable in developing a comprehensive and forward-thinking business plan. His ability to balance multiple roles and his experience in founding institutions would provide strong leadership and vision.\"},\n",
       "  {'name': 'Marie Curie',\n",
       "   'lifespan': '1867-1934',\n",
       "   'background': 'A pioneering physicist and chemist, Curie was the first woman to win a Nobel Prize and the only person to win Nobel Prizes in two different scientific fields (Physics and Chemistry).',\n",
       "   'contribution': \"Curie's dedication to research and innovation would drive the business towards cutting-edge solutions and continuous improvement. Her methodical approach and commitment to ethical scientific practices would ensure the business plan is both innovative and responsible.\"},\n",
       "  {'name': 'Andrew Carnegie',\n",
       "   'lifespan': '1835-1919',\n",
       "   'background': 'A leading industrialist and philanthropist, Carnegie led the expansion of the American steel industry in the late 19th century. He later dedicated his wealth to various philanthropic causes.',\n",
       "   'contribution': \"Carnegie's expertise in financial management and large-scale industrial operations would be crucial for the financial planning and scalability of the business. His philanthropic mindset would also ensure that the business plan includes social responsibility and ethical considerations.\"},\n",
       "  {'name': 'Mahatma Gandhi',\n",
       "   'lifespan': '1869-1948',\n",
       "   'background': 'A leader of the Indian independence movement, Gandhi is renowned for his philosophy of nonviolent resistance and his efforts to promote social justice and human rights.',\n",
       "   'contribution': \"Gandhi's leadership and ethical principles would guide the business towards socially responsible practices. His strategic planning skills, particularly in mobilizing and inspiring people, would be essential for team building and maintaining a strong organizational culture.\"},\n",
       "  {'name': 'Steve Jobs',\n",
       "   'lifespan': '1955-2011',\n",
       "   'background': 'Co-founder of Apple Inc., Jobs was a visionary entrepreneur known for his innovative approach to technology and design. He played a key role in the development of revolutionary products like the iPhone, iPad, and Mac.',\n",
       "   'contribution': \"Jobs' expertise in innovation and product development would drive the business towards creating groundbreaking products and services. His focus on design and user experience would ensure that the business plan prioritizes customer satisfaction and market differentiation.\"},\n",
       "  {'name': 'Nelson Mandela',\n",
       "   'lifespan': '1918-2013',\n",
       "   'background': \"A key figure in the struggle against apartheid in South Africa, Mandela became the country's first black president and a global symbol of peace and reconciliation.\",\n",
       "   'contribution': \"Mandela's leadership and commitment to justice would ensure that the business operates with integrity and inclusivity. His experience in overcoming significant challenges would provide valuable insights into strategic problem-solving and resilience.\"},\n",
       "  {'name': 'Leonardo da Vinci',\n",
       "   'lifespan': '1452-1519',\n",
       "   'background': 'A Renaissance polymath, da Vinci was an artist, scientist, and inventor whose works and ideas have had a lasting impact on various fields including art, engineering, and anatomy.',\n",
       "   'contribution': \"Da Vinci's innovative thinking and interdisciplinary approach would foster creativity and out-of-the-box solutions in the business plan. His meticulous attention to detail and pursuit of excellence would ensure high standards in all aspects of the business.\"}]}"
      ]
     },
     "execution_count": 15,
     "metadata": {},
     "output_type": "execute_result"
    }
   ],
   "source": [
    "council = Intelisys(provider=\"openai\", model=\"gpt-4o\")\n",
    "\n",
    "class HistoricFigure(BaseModel):\n",
    "    name: str\n",
    "    lifespan: str\n",
    "    background: str\n",
    "    contribution: str\n",
    "\n",
    "class Council(BaseModel):\n",
    "    members: List[HistoricFigure]\n",
    "\n",
    "committee = (council\n",
    "    .set_system_message(\"You are an entrepreneur writing a business plan\")\n",
    "    .set_output_model(Council)\n",
    "    .chat(\"Create a detailed list of the most renowned historical figures who would excel in overseeing the development and execution of a business plan. For each person, include their name, lifespan, a brief background detailing their key accomplishments and area of expertise, and a description of how their specific skills and experience would contribute to the successful execution of the business plan. Ensure the list represents a diverse range of skills, including strategic planning, innovation, financial management, leadership, and ethical considerations.\")\n",
    ")\n",
    "committee = safe_json_loads(committee)\n",
    "committee"
   ]
  },
  {
   "cell_type": "code",
   "execution_count": 23,
   "metadata": {},
   "outputs": [],
   "source": [
    "responses = []\n",
    "for member in committee['members']:\n",
    "    intelisys = Intelisys()\n",
    "    response = (intelisys\n",
    "        .set_default_template(Locksys(\"Promptsys\").item(\"Council\").key(\"Task\").results())\n",
    "        .template_chat(render_data={\n",
    "            \"task\": \"Provide a plan and approach to counceling a rouge member of my team\",\n",
    "            \"name\": member['name'],\n",
    "            \"background\": member['background'],\n",
    "            \"contribution\": member['contribution']})\n",
    "    )\n",
    "    responses.append(f\"{member['name']}: {response}\")"
   ]
  },
  {
   "cell_type": "code",
   "execution_count": 24,
   "metadata": {},
   "outputs": [
    {
     "data": {
      "text/plain": [
       "['Certainly, I shall approach this task with the same diligence and foresight that I applied to the founding of our great nation and my various scientific pursuits. When dealing with a rogue member of your team, it is crucial to balance firmness with understanding, much as we did when crafting the Constitution. Here\\'s a plan to counsel this individual:\\n\\n1. Observation and Analysis:\\nFirst, we must gather intelligence. Observe the team member\\'s behavior, understand their motivations, and identify the root causes of their actions. As I often say, \"An investment in knowledge pays the best interest.\"\\n\\n2. Private Discourse:\\nArrange a private meeting with the individual. Create an environment conducive to open dialogue, much like the salons I frequented in Paris. Remember, \"Speak little, do much.\"\\n\\n3. Active Listening:\\nAllow the team member to express their concerns and grievances. As a diplomat, I learned the value of listening before speaking. \"The art of conversation lies in listening.\"\\n\\n4. Establish Common Ground:\\nFind areas of agreement and shared goals. Just as we united the colonies despite their differences, seek to align this individual\\'s objectives with the team\\'s mission.\\n\\n5. Clear Communication of Expectations:\\nClearly articulate the team\\'s expectations and the consequences of continued rogue behavior. Be firm but fair, as we were when drafting the Declaration of Independence.\\n\\n6. Collaborative Problem-Solving:\\nEngage the individual in finding solutions to their concerns. As an inventor, I know the power of collaborative innovation. \"Tell me and I forget, teach me and I may remember, involve me and I learn.\"\\n\\n7. Mentorship and Guidance:\\nOffer mentorship and guidance to help the individual improve. Share your wisdom and experience, as I did with young apprentices in my printing business.\\n\\n8. Set Measurable Goals:\\nEstablish clear, measurable goals for improvement. As a scientist, I believe in the power of empirical evidence and measurable progress.\\n\\n9. Regular Check-ins:\\nSchedule regular meetings to monitor progress and provide ongoing support. Consistency is key, much like the steady progress we made in forming our new government.\\n\\n10. Recognition of Improvement:\\nAcknowledge and celebrate positive changes in behavior. As I once said, \"A small leak will sink a great ship,\" so too can small improvements lead to great change.\\n\\n11. Contingency Planning:\\nPrepare for the possibility that the individual may not improve. Have a plan in place to protect the team\\'s integrity and productivity, much as we planned for various outcomes during the Revolutionary War.\\n\\nRemember, \"By failing to prepare, you are preparing to fail.\" This comprehensive approach, combining diplomacy, mentorship, and strategic planning, should help guide your rogue team member back to a productive path. However, always be prepared to make difficult decisions for the greater good of the team and the organization, just as we did for our fledgling nation.',\n",
       " \"As Marie Curie, I approach this task of counseling a rogue team member with the same dedication and methodical approach I applied to my scientific research. Here's a plan that combines innovation, ethics, and a focus on continuous improvement:\\n\\n1. Observation and Analysis:\\n   Just as I meticulously studied radioactive materials, we must first observe and analyze the team member's behavior. Gather data on their performance, interactions, and any specific incidents that have occurred.\\n\\n2. Identify the Root Cause:\\n   In science, understanding the fundamental principles is crucial. Similarly, we must determine the root cause of the team member's behavior. Is it a lack of motivation, personal issues, or misalignment with team goals?\\n\\n3. Open Communication:\\n   As I collaborated with fellow scientists, open dialogue is essential. Schedule a private meeting with the team member to discuss observations and listen to their perspective without judgment.\\n\\n4. Establish Clear Expectations:\\n   Just as scientific experiments require precise parameters, clearly define the expected behavior and performance standards for the team member.\\n\\n5. Develop an Improvement Plan:\\n   Create a structured plan for improvement, similar to designing a research protocol. Set measurable goals and milestones for the team member to achieve.\\n\\n6. Provide Resources and Support:\\n   Offer necessary resources, training, or mentorship to help the team member succeed, much like how I ensured my laboratory was well-equipped for groundbreaking research.\\n\\n7. Regular Check-ins:\\n   Schedule frequent follow-up meetings to monitor progress, similar to how I continuously monitored experiments. Adjust the plan as needed based on new insights.\\n\\n8. Recognize Improvement:\\n   Acknowledge and celebrate progress, no matter how small. This positive reinforcement can motivate further improvement, much like how small discoveries can lead to major breakthroughs in science.\\n\\n9. Consider Team Dynamics:\\n   Assess how this individual's behavior affects the entire team, just as I considered how my research impacted the broader scientific community. Address any team-wide issues that may have contributed to the situation.\\n\\n10. Ethical Considerations:\\n    Ensure all actions and decisions align with the company's ethical standards, much like how I maintained high ethical standards in my scientific work.\\n\\n11. Document the Process:\\n    Keep detailed records of all interactions, plans, and progress, similar to maintaining meticulous lab notes. This documentation can be valuable for future reference or if further action is needed.\\n\\n12. Evaluate Long-term Fit:\\n    If improvement is not seen despite these efforts, objectively assess whether the team member's continued presence aligns with the team's and company's goals, much like how I would evaluate the viability of a research project.\\n\\nBy applying this structured, innovative, and ethical approach, we can address the issue with the rogue team member while maintaining a focus on continuous improvement and the overall success of the team and company. Remember, just as in scientific discovery, patience and persistence are key to achieving positive outcomes in personnel management.\",\n",
       " \"As Andrew Carnegie, I would approach counseling a rogue team member with a blend of firm leadership and compassionate guidance, drawing from my experience in managing large-scale industrial operations and my philanthropic mindset. Here's a plan to address this situation:\\n\\n1. Understand the Situation:\\nFirst, gather all relevant information about the team member's behavior and its impact on the team and business. Speak with other team members and supervisors to get a comprehensive view.\\n\\n2. Private Meeting:\\nArrange a private meeting with the individual. Create an environment that encourages open dialogue while maintaining a professional atmosphere.\\n\\n3. Clear Communication:\\nBegin the meeting by clearly stating the observed issues. Use specific examples to illustrate how their behavior is affecting the team and the company's goals. Be direct but not confrontational.\\n\\n4. Listen Actively:\\nAllow the team member to express their perspective. There may be underlying issues or misunderstandings contributing to their behavior. Listen attentively and show genuine interest in their viewpoint.\\n\\n5. Align with Company Vision:\\nRemind the individual of the company's vision and values. Draw parallels between their potential contributions and the overall success of the organization, much like how each worker in my steel mills contributed to the larger industrial growth.\\n\\n6. Set Clear Expectations:\\nEstablish clear, measurable expectations for improvement. Provide a timeline and specific goals, similar to how I set production targets in my steel operations.\\n\\n7. Offer Support and Resources:\\nProvide necessary resources for improvement, whether it's additional training, mentoring, or other support. This reflects my belief in investing in human capital for long-term success.\\n\\n8. Implement a Development Plan:\\nCreate a personalized development plan that addresses the individual's strengths and areas for improvement. This plan should align with both the company's needs and the individual's career aspirations.\\n\\n9. Regular Check-ins:\\nSchedule regular follow-up meetings to monitor progress and provide ongoing feedback. This demonstrates commitment to the individual's growth and allows for timely course corrections.\\n\\n10. Recognize Improvement:\\nAcknowledge and celebrate progress and improvements, no matter how small. This positive reinforcement can motivate continued good behavior.\\n\\n11. Consider the Greater Good:\\nIf the individual's behavior doesn't improve despite these efforts, consider the impact on the team and organization as a whole. Sometimes, for the greater good of the company and its employees, more drastic measures may be necessary.\\n\\n12. Document Everything:\\nThroughout this process, maintain detailed records of all interactions, agreements, and progress. This documentation is crucial for potential future actions and ensures fairness and transparency.\\n\\nBy implementing this plan, we aim to guide the team member back to productive behavior while maintaining the integrity and efficiency of the organization. This approach balances firm leadership with the opportunity for personal growth and aligns with my belief in the potential of individuals to contribute to larger societal progress when given the right guidance and opportunities.\",\n",
       " \"As Mahatma Gandhi, I would approach counseling a rogue team member with compassion, understanding, and a commitment to nonviolent communication. Here is a plan that aligns with my principles and leadership style:\\n\\n1. Self-reflection: Before addressing the team member, I would spend time in quiet contemplation, examining my own thoughts and biases to ensure I approach the situation with a clear and open mind.\\n\\n2. Create a safe environment: I would arrange a private meeting with the team member in a neutral, comfortable setting to foster open dialogue.\\n\\n3. Practice active listening: I would begin by asking the team member to share their perspective, listening attentively without interruption or judgment. This aligns with my belief in the power of understanding others' viewpoints.\\n\\n4. Identify root causes: Through gentle questioning and empathetic conversation, I would seek to understand the underlying reasons for the team member's behavior, recognizing that external factors or personal struggles may be contributing to their actions.\\n\\n5. Appeal to higher values: I would remind the team member of our shared goals and the importance of unity in achieving our collective mission. This approach draws on my experience in mobilizing people for a greater cause.\\n\\n6. Encourage self-correction: Rather than imposing punishment, I would guide the team member towards recognizing their own mistakes and finding ways to rectify them. This aligns with my belief in the power of individual conscience.\\n\\n7. Collaborative problem-solving: Together, we would brainstorm solutions that address both the team member's concerns and the needs of the organization, fostering a sense of ownership and responsibility.\\n\\n8. Set clear expectations: We would establish mutually agreed-upon goals and benchmarks for improvement, ensuring that the team member understands the path forward.\\n\\n9. Offer support and resources: I would provide any necessary resources or support to help the team member succeed, demonstrating the organization's commitment to their growth and well-being.\\n\\n10. Regular follow-ups: I would schedule periodic check-ins to monitor progress, offer encouragement, and address any new challenges that may arise.\\n\\n11. Lead by example: Throughout this process, I would embody the principles of nonviolence, patience, and respect, setting a standard for how conflicts should be resolved within the organization.\\n\\n12. Integrate back into the team: Once progress is made, I would carefully reintegrate the team member, emphasizing forgiveness and the strength that comes from overcoming challenges together.\\n\\nThis approach, rooted in nonviolence and social responsibility, aims to transform the rogue team member into a valuable contributor while maintaining the integrity and unity of the entire team. It reflects my belief in the inherent goodness of individuals and the power of truth and love to overcome all obstacles.\",\n",
       " \"Alright, let's tackle this issue head-on with the same intensity and vision we apply to creating revolutionary products. Here's my approach to counseling a rogue team member:\\n\\n1. Identify the Core Issue:\\nJust as we drill down to the essence of what makes a great product, we need to understand the root cause of this team member's behavior. Is it a lack of alignment with our vision? A misunderstanding of their role? Or perhaps untapped potential?\\n\\n2. One-on-One Meeting:\\nSchedule a private meeting. The environment is crucial - it should be neutral, perhaps outside the office. Remember, the first iPhone wasn't conceived in a stuffy boardroom.\\n\\n3. Listen Intently:\\nStart by listening. Really listening. Just as we pay attention to user feedback to improve our products, we need to hear this person out. What's driving their behavior? What are their frustrations? Their aspirations?\\n\\n4. Communicate the Vision:\\nOnce you've listened, it's time to inspire. Paint the big picture. Help them see how their role fits into the larger vision of the company. When we launched the iPhone, every team member understood they were part of something that would change the world.\\n\\n5. Set Clear Expectations:\\nBe crystal clear about what you expect from them, just as we set clear goals for our product teams. No ambiguity. No room for misinterpretation.\\n\\n6. Provide a Challenge:\\nPeople perform best when they're challenged. Give them a project that aligns with the company's goals but also speaks to their strengths and interests. When we challenged our teams to create a phone with one button, magic happened.\\n\\n7. Mentor and Guide:\\nOffer your guidance. Share your experiences. Be the mentor you wish you had when you were starting out.\\n\\n8. Create Accountability:\\nSet up regular check-ins. Monitor progress. Be ready to course-correct if needed. Remember, even the best products need updates and refinements.\\n\\n9. Recognize Improvement:\\nWhen you see positive changes, acknowledge them immediately. Public recognition can be powerful, but so can a sincere private word of encouragement.\\n\\n10. Be Prepared to Make Tough Decisions:\\nIf, after all this, there's no improvement, be prepared to make the tough call. Sometimes, for the good of the team and the vision, you need to let people go.\\n\\nRemember, our goal isn't just to correct behavior, it's to inspire greatness. We're not managing employees; we're cultivating innovators. Every team member should feel they're part of something bigger, something that's going to leave a dent in the universe.\\n\\nThis approach combines the visionary thinking that drove Apple's success with the attention to detail that made our products stand out. It's about seeing the potential in people, just as we see the potential in technology, and then doing whatever it takes to realize that potential.\",\n",
       " \"As Nelson Mandela, I would approach counseling a rogue team member with compassion, understanding, and a firm commitment to reconciliation. Here's a plan that reflects my experiences and values:\\n\\n1. Seek understanding:\\nFirst, I would arrange a private meeting with the team member. My goal would be to listen and understand their perspective. What are their grievances? What motivates their behavior? Remember, even those who oppose us have their reasons, and understanding these is crucial for resolution.\\n\\n2. Emphasize shared goals:\\nI would remind the team member of our shared vision and goals. Just as I worked to unite a divided South Africa, I would stress that we are all part of one team, working towards a common purpose. Our strength lies in our unity, not our division.\\n\\n3. Address concerns:\\nBased on what I've learned, I would address the team member's legitimate concerns. If there are systemic issues or inequities within the team or organization, I would commit to addressing these, just as I worked to dismantle the apartheid system.\\n\\n4. Set clear expectations:\\nWhile showing empathy, I would also be clear about the behavior expected from all team members. I would explain how their actions affect the team and the organization's goals, drawing parallels to how individual actions can impact an entire nation.\\n\\n5. Offer support and resources:\\nI would offer support to help the team member align their behavior with the team's expectations. This could include additional training, mentoring, or other resources. Just as education was a key tool in the fight against apartheid, it can be a powerful tool for personal and professional growth.\\n\\n6. Develop a reintegration plan:\\nTogether with the team member, I would create a plan for their full reintegration into the team. This plan would include specific actions, timelines, and milestones, much like the process of reintegrating South Africa into the global community after apartheid.\\n\\n7. Monitor progress and provide feedback:\\nI would regularly check in with the team member to monitor their progress and provide constructive feedback. This ongoing dialogue would be crucial in maintaining trust and ensuring continued growth.\\n\\n8. Celebrate improvements:\\nAs the team member makes progress, I would acknowledge and celebrate these improvements. Recognition of positive change was a key part of South Africa's reconciliation process and can be equally powerful in a team setting.\\n\\n9. Be prepared for difficult decisions:\\nIf, despite these efforts, the team member continues to act in ways that harm the team or organization, I would be prepared to make difficult decisions. Just as I had to make tough choices for the good of South Africa, sometimes leaders must prioritize the overall health of the team.\\n\\n10. Use the experience as a learning opportunity:\\nFinally, I would use this experience as a learning opportunity for the entire team. We would discuss how we can create an environment where all members feel valued and heard, preventing similar situations in the future.\\n\\nThroughout this process, I would embody the principles of ubuntu - the belief in a universal bond of sharing that connects all humanity. By treating the rogue team member with dignity and respect, while also holding them accountable, we can work towards a resolution that strengthens the entire team and organization.\",\n",
       " \"Ah, my dear friend, addressing a rogue member of your team requires the same delicate touch and multifaceted approach that I apply to my various pursuits in art, science, and engineering. Let us approach this challenge with both creativity and precision, much like the strokes of a painter's brush or the calculations of an inventor.\\n\\n1. Observation and Analysis:\\n   Begin by carefully observing the team member's behavior, much as I would study the anatomy of a subject before painting. Take note of their actions, interactions, and any changes in their demeanor. This will provide valuable insights into the root cause of their behavior.\\n\\n2. Empathetic Understanding:\\n   As an artist, I always seek to understand the emotions behind a subject's expression. Similarly, approach this team member with empathy. Arrange a private conversation to understand their perspective, concerns, and motivations.\\n\\n3. Interdisciplinary Approach:\\n   Just as I combine art and science in my work, blend different management techniques. Use psychological insights to understand their behavior, communication skills to express your concerns, and leadership principles to guide them back to the team's vision.\\n\\n4. Innovative Solutions:\\n   Think creatively about how to reintegrate this team member. Perhaps, like my flying machine designs, we can elevate their role in a way that challenges them positively. Consider assigning them a special project that aligns with their strengths and interests.\\n\\n5. Detailed Plan of Action:\\n   Develop a structured plan, much like the detailed sketches in my notebooks. This plan should include:\\n   - Clear objectives for improvement\\n   - Specific milestones and deadlines\\n   - Regular check-ins and feedback sessions\\n   - Opportunities for the team member to showcase their talents\\n\\n6. Collaborative Approach:\\n   Involve the team member in creating solutions, much as I collaborate with apprentices in my workshop. This fosters a sense of ownership and commitment to change.\\n\\n7. Continuous Learning and Adaptation:\\n   Like my perpetual quest for knowledge, encourage a culture of continuous learning. Provide resources and opportunities for the team member to grow and develop new skills.\\n\\n8. Holistic Team Integration:\\n   Consider how this individual's behavior affects the entire team, much as I consider how each element in a painting affects the whole composition. Work on team-building exercises to strengthen relationships and trust.\\n\\n9. Measure Progress:\\n   Use both qualitative and quantitative methods to assess improvement, similar to how I combine artistic intuition with scientific measurement in my studies.\\n\\n10. Contingency Planning:\\n    Prepare alternative strategies, much like I design multiple versions of an invention. If the initial approach doesn't yield results, be ready to pivot to a different method.\\n\\nRemember, my friend, that every challenge is an opportunity for growth and innovation. Approach this task with patience, curiosity, and an open mind. Like the sfumato technique I use in painting to softly blend colors, seek to gently guide this team member back into harmony with the group.\\n\\nBy combining empathy, creativity, and structured planning, you can transform this challenge into an opportunity for both the individual and the team to flourish. May your leadership be as inspiring as the flight of a bird and as precise as the gears of a well-crafted machine.\"]"
      ]
     },
     "execution_count": 24,
     "metadata": {},
     "output_type": "execute_result"
    }
   ],
   "source": [
    "responses"
   ]
  }
 ],
 "metadata": {
  "kernelspec": {
   "display_name": "lab",
   "language": "python",
   "name": "python3"
  },
  "language_info": {
   "codemirror_mode": {
    "name": "ipython",
    "version": 3
   },
   "file_extension": ".py",
   "mimetype": "text/x-python",
   "name": "python",
   "nbconvert_exporter": "python",
   "pygments_lexer": "ipython3",
   "version": "3.11.0"
  }
 },
 "nbformat": 4,
 "nbformat_minor": 2
}
